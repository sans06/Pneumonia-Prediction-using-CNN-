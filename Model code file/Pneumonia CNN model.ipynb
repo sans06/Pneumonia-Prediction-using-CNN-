{
 "cells": [
  {
   "cell_type": "markdown",
   "metadata": {},
   "source": [
    "# Data Preprocessing"
   ]
  },
  {
   "cell_type": "code",
   "execution_count": 23,
   "metadata": {},
   "outputs": [],
   "source": [
    "from tensorflow.keras.preprocessing.image import ImageDataGenerator"
   ]
  },
  {
   "cell_type": "code",
   "execution_count": 24,
   "metadata": {},
   "outputs": [],
   "source": [
    "train_datagen = ImageDataGenerator(rescale = 1./255,shear_range = 0.2,zoom_range = 0.2,horizontal_flip = True)\n",
    "test_datagen = ImageDataGenerator(rescale = 1./255)"
   ]
  },
  {
   "cell_type": "code",
   "execution_count": 25,
   "metadata": {},
   "outputs": [
    {
     "name": "stdout",
     "output_type": "stream",
     "text": [
      "Found 5216 images belonging to 2 classes.\n",
      "Found 624 images belonging to 2 classes.\n"
     ]
    }
   ],
   "source": [
    "x_train = train_datagen.flow_from_directory(r'C:\\Users\\parveen\\Internship\\X-ray_dataset\\chest_xray\\train',target_size=(64,64),batch_size=32,class_mode='binary')\n",
    "x_test = train_datagen.flow_from_directory(r'C:\\Users\\parveen\\Internship\\X-ray_dataset\\chest_xray\\test',target_size=(64,64),batch_size=32,class_mode='binary')"
   ]
  },
  {
   "cell_type": "markdown",
   "metadata": {},
   "source": [
    "# Model Building"
   ]
  },
  {
   "cell_type": "code",
   "execution_count": 4,
   "metadata": {},
   "outputs": [],
   "source": [
    "from tensorflow.keras.models import Sequential\n",
    "from tensorflow.keras.layers import Dense\n",
    "from tensorflow.keras.layers import Conv2D \n",
    "from tensorflow.keras.layers import MaxPool2D\n",
    "from tensorflow.keras.layers import Flatten"
   ]
  },
  {
   "cell_type": "code",
   "execution_count": 5,
   "metadata": {},
   "outputs": [],
   "source": [
    "model = Sequential()"
   ]
  },
  {
   "cell_type": "code",
   "execution_count": 6,
   "metadata": {},
   "outputs": [],
   "source": [
    "model.add(Conv2D(32,3,3,input_shape=(64,64,3),activation='relu'))"
   ]
  },
  {
   "cell_type": "code",
   "execution_count": 7,
   "metadata": {},
   "outputs": [],
   "source": [
    "model.add(MaxPool2D(pool_size=(2,2)))"
   ]
  },
  {
   "cell_type": "code",
   "execution_count": 9,
   "metadata": {},
   "outputs": [],
   "source": [
    "model.add(Conv2D(32,(3,3),activation = 'relu'))\n"
   ]
  },
  {
   "cell_type": "code",
   "execution_count": 11,
   "metadata": {},
   "outputs": [],
   "source": [
    "model.add(MaxPool2D((2,2)))"
   ]
  },
  {
   "cell_type": "code",
   "execution_count": 12,
   "metadata": {},
   "outputs": [],
   "source": [
    "model.add(Flatten())"
   ]
  },
  {
   "cell_type": "code",
   "execution_count": 13,
   "metadata": {},
   "outputs": [],
   "source": [
    "model.add(Dense(units=128,activation='relu',kernel_initializer='random_uniform'))"
   ]
  },
  {
   "cell_type": "code",
   "execution_count": 14,
   "metadata": {},
   "outputs": [],
   "source": [
    "model.add(Dense(units=1,activation='sigmoid',kernel_initializer='random_uniform'))"
   ]
  },
  {
   "cell_type": "code",
   "execution_count": 15,
   "metadata": {},
   "outputs": [],
   "source": [
    "model.compile(optimizer='adam',loss='binary_crossentropy',metrics=['accuracy'])"
   ]
  },
  {
   "cell_type": "code",
   "execution_count": 16,
   "metadata": {},
   "outputs": [
    {
     "name": "stdout",
     "output_type": "stream",
     "text": [
      "{'NORMAL': 0, 'PNEUMONIA': 1}\n"
     ]
    }
   ],
   "source": [
    "print(x_train.class_indices)"
   ]
  },
  {
   "cell_type": "code",
   "execution_count": 17,
   "metadata": {},
   "outputs": [
    {
     "name": "stdout",
     "output_type": "stream",
     "text": [
      "WARNING:tensorflow:From <ipython-input-17-4db775e1eefc>:1: Model.fit_generator (from tensorflow.python.keras.engine.training) is deprecated and will be removed in a future version.\n",
      "Instructions for updating:\n",
      "Please use Model.fit, which supports generators.\n",
      "WARNING:tensorflow:sample_weight modes were coerced from\n",
      "  ...\n",
      "    to  \n",
      "  ['...']\n",
      "WARNING:tensorflow:sample_weight modes were coerced from\n",
      "  ...\n",
      "    to  \n",
      "  ['...']\n",
      "Train for 163 steps, validate for 19 steps\n",
      "Epoch 1/25\n",
      "163/163 [==============================] - 778s 5s/step - loss: 0.4871 - accuracy: 0.7788 - val_loss: 0.4083 - val_accuracy: 0.8273\n",
      "Epoch 2/25\n",
      "163/163 [==============================] - 719s 4s/step - loss: 0.2588 - accuracy: 0.8900 - val_loss: 0.4360 - val_accuracy: 0.8010\n",
      "Epoch 3/25\n",
      "163/163 [==============================] - 1023s 6s/step - loss: 0.2372 - accuracy: 0.8980 - val_loss: 0.4425 - val_accuracy: 0.8125\n",
      "Epoch 4/25\n",
      "163/163 [==============================] - 794s 5s/step - loss: 0.2327 - accuracy: 0.9028 - val_loss: 0.5133 - val_accuracy: 0.7730\n",
      "Epoch 5/25\n",
      "163/163 [==============================] - 3173s 19s/step - loss: 0.2073 - accuracy: 0.9178 - val_loss: 0.5593 - val_accuracy: 0.7961\n",
      "Epoch 6/25\n",
      "163/163 [==============================] - 771s 5s/step - loss: 0.2090 - accuracy: 0.9164 - val_loss: 0.6118 - val_accuracy: 0.7862\n",
      "Epoch 7/25\n",
      "163/163 [==============================] - 735s 5s/step - loss: 0.1966 - accuracy: 0.9220 - val_loss: 0.3488 - val_accuracy: 0.8421\n",
      "Epoch 8/25\n",
      "163/163 [==============================] - 918s 6s/step - loss: 0.2115 - accuracy: 0.9135 - val_loss: 0.4610 - val_accuracy: 0.8092\n",
      "Epoch 9/25\n",
      "163/163 [==============================] - 1436s 9s/step - loss: 0.1828 - accuracy: 0.9308 - val_loss: 0.5539 - val_accuracy: 0.7845\n",
      "Epoch 10/25\n",
      "163/163 [==============================] - 604s 4s/step - loss: 0.1757 - accuracy: 0.9317 - val_loss: 0.6049 - val_accuracy: 0.7763\n",
      "Epoch 11/25\n",
      "163/163 [==============================] - 762s 5s/step - loss: 0.1817 - accuracy: 0.9283 - val_loss: 0.4918 - val_accuracy: 0.8092\n",
      "Epoch 12/25\n",
      "163/163 [==============================] - 665s 4s/step - loss: 0.1708 - accuracy: 0.9319 - val_loss: 0.4551 - val_accuracy: 0.8224\n",
      "Epoch 13/25\n",
      "163/163 [==============================] - 703s 4s/step - loss: 0.1653 - accuracy: 0.9354 - val_loss: 0.4830 - val_accuracy: 0.7977\n",
      "Epoch 14/25\n",
      "163/163 [==============================] - 717s 4s/step - loss: 0.1613 - accuracy: 0.9365 - val_loss: 0.5996 - val_accuracy: 0.7763\n",
      "Epoch 15/25\n",
      "163/163 [==============================] - 49608s 304s/step - loss: 0.1507 - accuracy: 0.9421 - val_loss: 0.3054 - val_accuracy: 0.8734\n",
      "Epoch 16/25\n",
      "163/163 [==============================] - 877s 5s/step - loss: 0.1594 - accuracy: 0.9394 - val_loss: 0.3819 - val_accuracy: 0.8355\n",
      "Epoch 17/25\n",
      "163/163 [==============================] - 4843s 30s/step - loss: 0.1656 - accuracy: 0.9390 - val_loss: 0.5044 - val_accuracy: 0.8141\n",
      "Epoch 18/25\n",
      "163/163 [==============================] - 1442s 9s/step - loss: 0.1466 - accuracy: 0.9427 - val_loss: 0.3352 - val_accuracy: 0.8799\n",
      "Epoch 19/25\n",
      "163/163 [==============================] - 1196s 7s/step - loss: 0.1555 - accuracy: 0.9385 - val_loss: 0.3979 - val_accuracy: 0.8405\n",
      "Epoch 20/25\n",
      "163/163 [==============================] - 708s 4s/step - loss: 0.1436 - accuracy: 0.9454 - val_loss: 0.2833 - val_accuracy: 0.8914\n",
      "Epoch 21/25\n",
      "163/163 [==============================] - 791s 5s/step - loss: 0.1460 - accuracy: 0.9434 - val_loss: 0.3595 - val_accuracy: 0.8783\n",
      "Epoch 22/25\n",
      "163/163 [==============================] - 854s 5s/step - loss: 0.1538 - accuracy: 0.9373 - val_loss: 0.4116 - val_accuracy: 0.8602\n",
      "Epoch 23/25\n",
      "163/163 [==============================] - 802s 5s/step - loss: 0.1419 - accuracy: 0.9482 - val_loss: 0.3832 - val_accuracy: 0.8717\n",
      "Epoch 24/25\n",
      "163/163 [==============================] - 1454s 9s/step - loss: 0.1407 - accuracy: 0.9442 - val_loss: 0.3284 - val_accuracy: 0.8849\n",
      "Epoch 25/25\n",
      "163/163 [==============================] - 732s 4s/step - loss: 0.1360 - accuracy: 0.9480 - val_loss: 0.3812 - val_accuracy: 0.8668\n"
     ]
    },
    {
     "data": {
      "text/plain": [
       "<tensorflow.python.keras.callbacks.History at 0xc3a4a6ff08>"
      ]
     },
     "execution_count": 17,
     "metadata": {},
     "output_type": "execute_result"
    }
   ],
   "source": [
    "model.fit_generator(x_train,steps_per_epoch=5216//32,validation_data=x_test,epochs=25,validation_steps=624//32)"
   ]
  },
  {
   "cell_type": "code",
   "execution_count": 22,
   "metadata": {},
   "outputs": [],
   "source": [
    "model.save('prediction.h5')"
   ]
  }
 ],
 "metadata": {
  "kernelspec": {
   "display_name": "Python 3",
   "language": "python",
   "name": "python3"
  },
  "language_info": {
   "codemirror_mode": {
    "name": "ipython",
    "version": 3
   },
   "file_extension": ".py",
   "mimetype": "text/x-python",
   "name": "python",
   "nbconvert_exporter": "python",
   "pygments_lexer": "ipython3",
   "version": "3.8.3"
  }
 },
 "nbformat": 4,
 "nbformat_minor": 4
}
